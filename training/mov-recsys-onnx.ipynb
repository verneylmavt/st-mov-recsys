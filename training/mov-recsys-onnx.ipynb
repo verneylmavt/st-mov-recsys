{
 "cells": [
  {
   "cell_type": "code",
   "execution_count": 11,
   "metadata": {},
   "outputs": [],
   "source": [
    "import onnxruntime as ort\n",
    "import numpy as np\n",
    "import pandas as pd\n",
    "from sklearn.preprocessing import LabelEncoder\n",
    "from sklearn.metrics.pairwise import cosine_similarity"
   ]
  },
  {
   "cell_type": "code",
   "execution_count": 12,
   "metadata": {},
   "outputs": [],
   "source": [
    "net = ort.InferenceSession(\"../models/ncf/model-q.onnx\")"
   ]
  },
  {
   "cell_type": "code",
   "execution_count": 13,
   "metadata": {},
   "outputs": [],
   "source": [
    "movies = pd.read_csv(\"../models/ncf/movies.csv\")\n",
    "ratings = pd.read_parquet(\"../models/ncf/ratings.parquet\", engine=\"pyarrow\")\n",
    "embeddings = np.load('../models/ncf/embeddings.npy')"
   ]
  },
  {
   "cell_type": "markdown",
   "metadata": {},
   "source": [
    "### DB"
   ]
  },
  {
   "cell_type": "code",
   "execution_count": 14,
   "metadata": {},
   "outputs": [],
   "source": [
    "import psycopg2\n",
    "from psycopg2 import sql\n",
    "from sqlalchemy import create_engine, text, inspect\n",
    "from tqdm import tqdm\n",
    "\n",
    "# db_host = \"movie-ratings.c7aw8qoquhqp.us-east-1.rds.amazonaws.com\"\n",
    "db_host = \"movie-ratings.clweeg2y8lzr.ap-southeast-1.rds.amazonaws.com\"\n",
    "db_name = \"postgres\"\n",
    "db_user = \"postgres\"\n",
    "db_password = \"postgres-root\"\n",
    "db_port = \"5432\""
   ]
  },
  {
   "cell_type": "code",
   "execution_count": 15,
   "metadata": {},
   "outputs": [
    {
     "name": "stdout",
     "output_type": "stream",
     "text": [
      "Successful\n"
     ]
    }
   ],
   "source": [
    "try:\n",
    "    # conn = psycopg2.connect(\n",
    "    #     dbname=db_name,\n",
    "    #     user=db_user,\n",
    "    #     password=db_password,\n",
    "    #     host=db_host,\n",
    "    #     port=db_port\n",
    "    # )\n",
    "    # conn.close()\n",
    "    engine = create_engine(f\"postgresql://{db_user}:{db_password}@{db_host}:{db_port}/{db_name}\")\n",
    "    print(\"Successful\")\n",
    "except Exception as e:\n",
    "    print(\"Failed:\", e)"
   ]
  },
  {
   "cell_type": "code",
   "execution_count": null,
   "metadata": {},
   "outputs": [],
   "source": [
    "def load_engine():\n",
    "    db_host = \"movie-ratings.clweeg2y8lzr.ap-southeast-1.rds.amazonaws.com\"\n",
    "    db_name = \"postgres\"\n",
    "    db_user = \"postgres\"\n",
    "    db_password = \"postgres-root\"\n",
    "    db_port = \"5432\"\n",
    "\n",
    "    engine = create_engine(f\"postgresql://{db_user}:{db_password}@{db_host}:{db_port}/{db_name}\")\n",
    "    \n",
    "    return engine"
   ]
  },
  {
   "cell_type": "code",
   "execution_count": 16,
   "metadata": {},
   "outputs": [],
   "source": [
    "# for i in tqdm(range(0, len(ratings), 10000), desc=\"Uploading...\"):\n",
    "#     ratings.iloc[i:i+10000].to_sql('ratings', con=engine, if_exists='append', index=False)"
   ]
  },
  {
   "cell_type": "code",
   "execution_count": 17,
   "metadata": {},
   "outputs": [],
   "source": [
    "# try:\n",
    "#     # engine = create_engine(f\"postgresql://{db_user}:{db_password}@{db_host}:{db_port}/{db_name}\")\n",
    "    \n",
    "#     with engine.connect() as conn:\n",
    "#         try:\n",
    "#             conn.execute(text('CREATE INDEX IF NOT EXISTS \"idx_movieId\" ON ratings(\"movieId\");'))\n",
    "#             conn.execute(text('CREATE INDEX IF NOT EXISTS \"idx_rating\" ON ratings(\"rating\");'))\n",
    "#             conn.execute(text('CREATE INDEX IF NOT EXISTS \"idx_movieId_rating\" ON ratings(\"movieId\", \"rating\");'))\n",
    "#             conn.execute(text('CREATE INDEX IF NOT EXISTS \"idx_rating_movieId\" ON ratings(\"rating\", \"movieId\");'))\n",
    "#             conn.commit()\n",
    "#             print(\"Successful\")\n",
    "#         except Exception as e:\n",
    "#             print(\"Error:\", e)\n",
    "            \n",
    "# except Exception as e:\n",
    "#     print(\"Failed:\", e)"
   ]
  },
  {
   "cell_type": "code",
   "execution_count": 18,
   "metadata": {},
   "outputs": [
    {
     "name": "stdout",
     "output_type": "stream",
     "text": [
      "Tables: ['ratings']\n",
      "Columns: ['userId', 'movieId', 'rating']\n"
     ]
    }
   ],
   "source": [
    "try:\n",
    "    # engine = create_engine(f\"postgresql://{db_user}:{db_password}@{db_host}:{db_port}/{db_name}\")\n",
    "    \n",
    "    inspector = inspect(engine)\n",
    "    table_names = inspector.get_table_names()\n",
    "    print(\"Tables:\", table_names)\n",
    "    \n",
    "    for table_name in table_names:\n",
    "        columns = inspector.get_columns(table_name)\n",
    "        column_names = [col[\"name\"] for col in columns]\n",
    "        print(\"Columns:\", column_names)\n",
    "        \n",
    "except Exception as e:\n",
    "    print(\"Failed:\", e)"
   ]
  },
  {
   "cell_type": "code",
   "execution_count": 19,
   "metadata": {},
   "outputs": [
    {
     "name": "stdout",
     "output_type": "stream",
     "text": [
      "Indexes: ['idx_movieId', 'idx_movieId_rating', 'idx_rating', 'idx_rating_movieId']\n"
     ]
    }
   ],
   "source": [
    "try:\n",
    "    # engine = create_engine(f\"postgresql://{db_user}:{db_password}@{db_host}:{db_port}/{db_name}\")\n",
    "    \n",
    "    inspector = inspect(engine)\n",
    "    indexes = inspector.get_indexes(\"ratings\")\n",
    "    print(\"Indexes:\", [index[\"name\"] for index in indexes])\n",
    "        \n",
    "except Exception as e:\n",
    "    print(\"Failed:\", e)"
   ]
  },
  {
   "cell_type": "code",
   "execution_count": 20,
   "metadata": {},
   "outputs": [
    {
     "name": "stdout",
     "output_type": "stream",
     "text": [
      "                                          QUERY PLAN\n",
      "0  Seq Scan on ratings  (cost=0.00..603825.65 row...\n",
      "1           Filter: (rating > '4'::double precision)\n",
      "2                   Rows Removed by Filter: 24429627\n",
      "3                            Planning Time: 0.216 ms\n",
      "4                        Execution Time: 2339.222 ms\n",
      "   userId  movieId  rating\n",
      "0       1       30     5.0\n",
      "1       1       32     5.0\n",
      "2       1       80     5.0\n",
      "3       1      111     5.0\n",
      "4       1      166     5.0\n"
     ]
    }
   ],
   "source": [
    "try:\n",
    "    # engine = create_engine(f\"postgresql://{db_user}:{db_password}@{db_host}:{db_port}/{db_name}\")\n",
    "    \n",
    "    with engine.connect() as conn:\n",
    "        \n",
    "        # conn.execute(text(\"SET enable_indexscan = ON;\"))\n",
    "        \n",
    "        query = \"EXPLAIN ANALYZE SELECT * FROM ratings WHERE rating > 4.0;\"\n",
    "        df_explain = pd.read_sql(query, con=conn)\n",
    "        \n",
    "        query = \"SELECT * FROM ratings WHERE rating > 4.0;\"\n",
    "        df = pd.read_sql(query, con=conn)\n",
    "        \n",
    "    print(df_explain)\n",
    "    print(df.head())\n",
    "        \n",
    "except Exception as e:\n",
    "    print(\"Failed:\", e)"
   ]
  },
  {
   "cell_type": "markdown",
   "metadata": {},
   "source": [
    "### Main Function"
   ]
  },
  {
   "cell_type": "code",
   "execution_count": null,
   "metadata": {},
   "outputs": [],
   "source": [
    "user_encoder = LabelEncoder()\n",
    "movie_encoder = LabelEncoder()\n",
    "\n",
    "# ratings['user'] = user_encoder.fit_transform(ratings['userId'])\n",
    "# ratings['movie'] = movie_encoder.fit_transform(ratings['movieId'])\n",
    "# ratings.drop(columns=['user', 'movie'], inplace=True)\n",
    "\n",
    "user_encoder.fit_transform(ratings['userId'])\n",
    "movie_encoder.fit_transform(ratings['movieId'])"
   ]
  },
  {
   "cell_type": "code",
   "execution_count": 5,
   "metadata": {},
   "outputs": [],
   "source": [
    "all_genres = ['Action', 'Adventure', 'Animation', 'Children', 'Comedy', 'Crime', 'Documentary', 'Drama', 'Fantasy', 'Film-Noir', 'Horror', 'IMAX', 'Musical', 'Mystery', 'Romance', 'Sci-Fi', 'Thriller', 'War', 'Western']"
   ]
  },
  {
   "cell_type": "code",
   "execution_count": 6,
   "metadata": {},
   "outputs": [],
   "source": [
    "def recommend_movies(user_id, net, movies, user_encoder, movie_encoder, ratings, top_n=10):\n",
    "    try:\n",
    "        user_encoded = user_encoder.transform([user_id])[0]\n",
    "    except:\n",
    "        print(\"User ID Invalid\")\n",
    "        return pd.DataFrame()\n",
    "    \n",
    "    all_movies = np.arange(84432)\n",
    "\n",
    "    user_data = ratings[ratings['userId'] == user_id]\n",
    "    rated_movie_ids = user_data['movieId'].unique()\n",
    "    rated_movies = movie_encoder.transform(rated_movie_ids)\n",
    "    \n",
    "    movies_to_predict = np.setdiff1d(all_movies, rated_movies).astype(np.int64)\n",
    "    \n",
    "    predicted_ratings = []\n",
    "    movie_ids = []\n",
    "    \n",
    "    batch_size = 1024\n",
    "    for i in range(0, len(movies_to_predict), batch_size):\n",
    "        batch_movies = movies_to_predict[i:i+batch_size]\n",
    "        batch_users = np.array([user_encoded] * len(batch_movies), dtype=np.int64)\n",
    "        inputs = {\n",
    "            'user_input': batch_users,\n",
    "            'movie_input': batch_movies\n",
    "        }\n",
    "        outputs = net.run(['rating_output'], inputs)[0]\n",
    "        predicted_ratings.extend(outputs.flatten())\n",
    "        batch_movie_ids = movie_encoder.inverse_transform(batch_movies)\n",
    "        movie_ids.extend(batch_movie_ids)\n",
    "    \n",
    "    predictions_df = pd.DataFrame({\n",
    "        'movieId': movie_ids,\n",
    "        'predicted_rating': predicted_ratings\n",
    "    })\n",
    "    \n",
    "    recommendations = predictions_df.merge(movies[['movieId', 'title']], on='movieId')\n",
    "    recommendations = recommendations.sort_values(by='predicted_rating', ascending=False).head(top_n)\n",
    "    recommendations[\"predicted_rating\"] = np.floor(recommendations[\"predicted_rating\"] * 100) / 100\n",
    "    \n",
    "    recommendations = recommendations.reset_index(drop=True)\n",
    "    recommendations.index += 1\n",
    "    \n",
    "    recommendations.rename(columns={\n",
    "    \"movieId\": \"Movie ID\",\n",
    "    \"title\": \"Title\",\n",
    "    \"predicted_rating\": \"Predicted Rating\"\n",
    "    }, inplace=True)\n",
    "    recommendations[\"Year\"] = recommendations[\"Title\"].str.extract(r\"\\((\\d{4})\\)\")\n",
    "    recommendations[\"Title\"] = recommendations[\"Title\"].str.replace(r\" \\(\\d{4}\\)\", \"\", regex=True)\n",
    "    recommendations = recommendations[[\"Movie ID\", \"Title\", \"Year\", \"Predicted Rating\"]]\n",
    "    return recommendations"
   ]
  },
  {
   "cell_type": "code",
   "execution_count": null,
   "metadata": {},
   "outputs": [],
   "source": [
    "user_id=2\n",
    "print(f\"Recommended Movies for: User {user_id}\")\n",
    "user_recommendations = recommend_movies(\n",
    "    user_id=user_id,\n",
    "    net=net,\n",
    "    movies=movies,\n",
    "    user_encoder=user_encoder,\n",
    "    movie_encoder=movie_encoder,\n",
    "    ratings=ratings,\n",
    "    top_n=10\n",
    ")\n",
    "display(user_recommendations)"
   ]
  },
  {
   "cell_type": "code",
   "execution_count": 8,
   "metadata": {},
   "outputs": [],
   "source": [
    "def recommend_similar_movies_id(movie_id, movies, movie_encoder, embeddings, top_n=10):\n",
    "    \n",
    "    if movie_id not in movies['movieId'].values:\n",
    "        print(\"Movie ID Invalid\")\n",
    "        return pd.DataFrame()\n",
    "    # print(f\"Recommended Movies Similar to: {movies[movies['movieId'] == movie_id]['title'].values[0]}\")\n",
    "    \n",
    "    movie_encoded = movie_encoder.transform([movie_id])[0]\n",
    "    target_embedding = embeddings[movie_encoded].reshape(1, -1)\n",
    "    \n",
    "    similarities = cosine_similarity(target_embedding, embeddings).flatten()\n",
    "    similar_indices = similarities.argsort()[-(top_n + 1):-1][::-1]\n",
    "    similar_movie_ids = movie_encoder.inverse_transform(similar_indices)\n",
    "    \n",
    "    recommendations = movies[movies['movieId'].isin(similar_movie_ids)][['movieId', 'title']]\n",
    "    recommendations['similarity'] = similarities[similar_indices]\n",
    "    recommendations[\"similarity\"] = np.ceil(recommendations[\"similarity\"] * 1000) / 100\n",
    "    \n",
    "    recommendations = recommendations.reset_index(drop=True)\n",
    "    recommendations.index += 1\n",
    "    \n",
    "    recommendations.rename(columns={\n",
    "    \"movieId\": \"Movie ID\",\n",
    "    \"title\": \"Title\",\n",
    "    \"similarity\": \"Cosine Similarity\"\n",
    "    }, inplace=True)\n",
    "    recommendations[\"Year\"] = recommendations[\"Title\"].str.extract(r\"\\((\\d{4})\\)\")\n",
    "    recommendations[\"Title\"] = recommendations[\"Title\"].str.replace(r\" \\(\\d{4}\\)\", \"\", regex=True)\n",
    "    recommendations = recommendations[[\"Movie ID\", \"Title\", \"Year\", \"Cosine Similarity\"]]\n",
    "    return recommendations"
   ]
  },
  {
   "cell_type": "code",
   "execution_count": null,
   "metadata": {},
   "outputs": [],
   "source": [
    "movie_id=1\n",
    "similar_movies = recommend_similar_movies_id(\n",
    "    movie_id=movie_id,\n",
    "    movies=movies,\n",
    "    movie_encoder=movie_encoder,\n",
    "    embeddings=embeddings,\n",
    "    top_n=10\n",
    ")\n",
    "display(similar_movies)"
   ]
  },
  {
   "cell_type": "code",
   "execution_count": 10,
   "metadata": {},
   "outputs": [],
   "source": [
    "def recommend_similar_movies_name(movie_name, movies, movie_encoder, embeddings, top_n=10):\n",
    "    \n",
    "    movie_name = movie_name.strip()\n",
    "    matching_movies = movies[movies['title'].str.contains(movie_name, case=False, regex=True)]\n",
    "    if matching_movies.empty:\n",
    "        print(\"Movie Name Invalid\")\n",
    "        return pd.DataFrame()\n",
    "    movie_id = matching_movies.iloc[0]['movieId']\n",
    "    # print(f\"Recommended Movies Similar to: {movies[movies['movieId'] == movie_id]['title'].values[0]}\")\n",
    "    \n",
    "    movie_encoded = movie_encoder.transform([movie_id])[0]\n",
    "    target_embedding = embeddings[movie_encoded].reshape(1, -1)\n",
    "    \n",
    "    similarities = cosine_similarity(target_embedding, embeddings).flatten()\n",
    "    similar_indices = similarities.argsort()[-(top_n + 1):-1][::-1]\n",
    "    similar_movie_ids = movie_encoder.inverse_transform(similar_indices)\n",
    "    \n",
    "    recommendations = movies[movies['movieId'].isin(similar_movie_ids)][['movieId', 'title']]\n",
    "    recommendations['similarity'] = similarities[similar_indices]\n",
    "    recommendations[\"similarity\"] = np.ceil(recommendations[\"similarity\"] * 1000) / 100\n",
    "    \n",
    "    recommendations = recommendations.reset_index(drop=True)\n",
    "    recommendations.index += 1\n",
    "    \n",
    "    recommendations.rename(columns={\n",
    "    \"movieId\": \"Movie ID\",\n",
    "    \"title\": \"Title\",\n",
    "    \"similarity\": \"Cosine Similarity\"\n",
    "    }, inplace=True)\n",
    "    recommendations[\"Year\"] = recommendations[\"Title\"].str.extract(r\"\\((\\d{4})\\)\")\n",
    "    recommendations[\"Title\"] = recommendations[\"Title\"].str.replace(r\" \\(\\d{4}\\)\", \"\", regex=True)\n",
    "    recommendations = recommendations[[\"Movie ID\", \"Title\", \"Year\", \"Cosine Similarity\"]]\n",
    "    return recommendations"
   ]
  },
  {
   "cell_type": "code",
   "execution_count": null,
   "metadata": {},
   "outputs": [],
   "source": [
    "movie_name=\"Godfather\"\n",
    "similar_movies = recommend_similar_movies_name(\n",
    "    movie_name=movie_name,\n",
    "    movies=movies,\n",
    "    movie_encoder=movie_encoder,\n",
    "    embeddings=embeddings,\n",
    "    top_n=10\n",
    ")\n",
    "display(similar_movies)"
   ]
  },
  {
   "cell_type": "code",
   "execution_count": 12,
   "metadata": {},
   "outputs": [],
   "source": [
    "def recommend_by_genre_pop(genres, movies, ratings, top_n=10):\n",
    "    valid_genres = sorted(all_genres)\n",
    "    for genre in genres:\n",
    "        if genre not in valid_genres:\n",
    "            print(f\"Genre '{genre}' Invalid. Valid Genres: {valid_genres}\")\n",
    "            return pd.DataFrame()\n",
    "    \n",
    "    filtered_movies = movies\n",
    "    for genre in genres:\n",
    "        filtered_movies = filtered_movies[filtered_movies[genre] == 1]\n",
    "    \n",
    "    if filtered_movies.empty:\n",
    "        print(\"No Movies Found w/ Specified Genre(s)\")\n",
    "        return pd.DataFrame()\n",
    "    \n",
    "    popularity = ratings.groupby('movieId').size().reset_index(name='rating_count')\n",
    "    \n",
    "    recommendations = filtered_movies.merge(popularity, on='movieId', how='left').fillna({'rating_count': 0})\n",
    "    recommendations = recommendations.sort_values(by='rating_count', ascending=False)\n",
    "    recommendations = recommendations[['movieId', 'title', 'rating_count']].head(top_n)\n",
    "    recommendations[\"rating_count\"] = recommendations[\"rating_count\"].astype(int)\n",
    "    \n",
    "    recommendations = recommendations.reset_index(drop=True)\n",
    "    recommendations.index += 1\n",
    "    \n",
    "    recommendations.rename(columns={\n",
    "    \"movieId\": \"Movie ID\",\n",
    "    \"title\": \"Title\",\n",
    "    \"rating_count\": \"Total Rating\"\n",
    "    }, inplace=True)\n",
    "    recommendations[\"Year\"] = recommendations[\"Title\"].str.extract(r\"\\((\\d{4})\\)\")\n",
    "    recommendations[\"Title\"] = recommendations[\"Title\"].str.replace(r\" \\(\\d{4}\\)\", \"\", regex=True)\n",
    "    recommendations = recommendations[[\"Movie ID\", \"Title\", \"Year\", \"Total Rating\"]]\n",
    "    \n",
    "    return recommendations"
   ]
  },
  {
   "cell_type": "code",
   "execution_count": null,
   "metadata": {},
   "outputs": [],
   "source": [
    "selected_genres = ['Action', 'Adventure']\n",
    "print(f\"Recommended Movies w/ Genres: {', '.join(selected_genres)}\")\n",
    "genre_recommendations = recommend_by_genre_pop(\n",
    "    genres=selected_genres,\n",
    "    movies=movies,\n",
    "    ratings=ratings,\n",
    "    top_n=10\n",
    ")\n",
    "display(genre_recommendations)"
   ]
  },
  {
   "cell_type": "code",
   "execution_count": 14,
   "metadata": {},
   "outputs": [],
   "source": [
    "def recommend_by_genre_avg(genres, movies, ratings, top_n=10):\n",
    "    valid_genres = sorted(all_genres)\n",
    "    for genre in genres:\n",
    "        if genre not in valid_genres:\n",
    "            print(f\"Genre '{genre}' is not recognized. Valid genres are: {valid_genres}\")\n",
    "            return pd.DataFrame()\n",
    "    \n",
    "    filtered_movies = movies\n",
    "    for genre in genres:\n",
    "        filtered_movies = filtered_movies[filtered_movies[genre] == 1]\n",
    "    \n",
    "    if filtered_movies.empty:\n",
    "        print(\"No movies found with the specified genres.\")\n",
    "        return pd.DataFrame()\n",
    "    \n",
    "    rating_stats = ratings.groupby('movieId').agg(\n",
    "        average_rating=('rating', 'mean'),\n",
    "        rating_count=('rating', 'size')\n",
    "    ).reset_index()\n",
    "    \n",
    "    recommendations = filtered_movies.merge(rating_stats, on='movieId', how='left').fillna({'average_rating': 0, 'rating_count': 0})\n",
    "    recommendations = recommendations[recommendations['rating_count'] >= 10]\n",
    "    recommendations = recommendations.sort_values(by='average_rating', ascending=False)\n",
    "    recommendations = recommendations[['movieId', 'title', 'average_rating', 'rating_count']].head(top_n)\n",
    "    recommendations[\"average_rating\"] = np.ceil(recommendations[\"average_rating\"] * 1000) / 1000\n",
    "    recommendations[\"rating_count\"] = recommendations[\"rating_count\"].astype(int)\n",
    "    \n",
    "    recommendations = recommendations.reset_index(drop=True)\n",
    "    recommendations.index += 1\n",
    "    \n",
    "    recommendations.rename(columns={\n",
    "    \"movieId\": \"Movie ID\",\n",
    "    \"title\": \"Title\",\n",
    "    \"average_rating\": \"Average Rating\",\n",
    "    \"rating_count\": \"Total Rating\"\n",
    "    }, inplace=True)\n",
    "    recommendations[\"Year\"] = recommendations[\"Title\"].str.extract(r\"\\((\\d{4})\\)\")\n",
    "    recommendations[\"Title\"] = recommendations[\"Title\"].str.replace(r\" \\(\\d{4}\\)\", \"\", regex=True)\n",
    "    recommendations = recommendations[[\"Movie ID\", \"Title\", \"Year\", \"Average Rating\", \"Total Rating\"]]\n",
    "    \n",
    "    return recommendations"
   ]
  },
  {
   "cell_type": "code",
   "execution_count": null,
   "metadata": {},
   "outputs": [],
   "source": [
    "selected_genres = ['Horror', 'Adventure']\n",
    "print(f\"Recommended Movies w/ Genres: {', '.join(selected_genres)}\")\n",
    "genre_recommendations = recommend_by_genre_avg(\n",
    "    genres=selected_genres,\n",
    "    movies=movies,\n",
    "    ratings=ratings,\n",
    "    top_n=10\n",
    ")\n",
    "display(genre_recommendations)"
   ]
  },
  {
   "cell_type": "code",
   "execution_count": 16,
   "metadata": {},
   "outputs": [],
   "source": [
    "# def recommend_combined(movie_id, genres, movies, movie_encoder, embeddings, ratings, top_n=10):\n",
    "#     if movie_id not in movies['movieId'].values:\n",
    "#         print(\"Movie ID Invalid\")\n",
    "#         return pd.DataFrame()\n",
    "    \n",
    "#     movie_encoded = movie_encoder.transform([movie_id])[0]\n",
    "#     target_embedding = embeddings[movie_encoded].reshape(1, -1)\n",
    "    \n",
    "#     similarities = cosine_similarity(target_embedding, embeddings).flatten()\n",
    "    \n",
    "#     similar_indices = similarities.argsort()[-(top_n * 2 + 1):-1][::-1]\n",
    "#     similar_movie_ids = movie_encoder.inverse_transform(similar_indices)\n",
    "#     similar_movies = movies[movies['movieId'].isin(similar_movie_ids)].copy()\n",
    "#     similar_movies['similarity'] = similarities[similar_indices]\n",
    "    \n",
    "#     for genre in genres:\n",
    "#         if genre in all_genres:\n",
    "#             similar_movies = similar_movies[similar_movies[genre] == 1]\n",
    "#         else:\n",
    "#             print(f\"Genre '{genre}' Invalid.\")\n",
    "#             return pd.DataFrame()\n",
    "    \n",
    "#     if similar_movies.empty:\n",
    "#         print(\"No Movies Found w/ Specified Genre(s)\")\n",
    "#         return pd.DataFrame()\n",
    "    \n",
    "#     popularity = ratings.groupby('movieId').size().reset_index(name='rating_count')\n",
    "#     similar_movies = similar_movies.merge(popularity, on='movieId', how='left').fillna({'rating_count': 0})\n",
    "    \n",
    "#     similar_movies = similar_movies.sort_values(by=['similarity', 'rating_count'], ascending=[False, False])\n",
    "#     recommendations = similar_movies[['movieId', 'title', 'similarity', 'rating_count']].head(top_n)\n",
    "    \n",
    "#     return recommendations.reset_index(drop=True)"
   ]
  },
  {
   "cell_type": "code",
   "execution_count": 17,
   "metadata": {},
   "outputs": [],
   "source": [
    "# movie_id = 100\n",
    "# selected_genres = ['Action']\n",
    "# print(f\"Recommended Movies Similar to: {movies[movies['movieId'] == movie_id]['title'].values[0]} w/ Genres: {', '.join(selected_genres)}\")\n",
    "# combined_recommendations = recommend_combined(\n",
    "#     movie_id=movie_id,\n",
    "#     genres=selected_genres,\n",
    "#     movies=movies,\n",
    "#     movie_encoder=movie_encoder,\n",
    "#     embeddings=embeddings,\n",
    "#     ratings=ratings,\n",
    "#     top_n=10\n",
    "# )\n",
    "# display(combined_recommendations)"
   ]
  },
  {
   "cell_type": "code",
   "execution_count": 18,
   "metadata": {},
   "outputs": [],
   "source": [
    "def recommend_combined_mix(movie_name, genres, movies, movie_encoder, embeddings, ratings, top_n=10):\n",
    "    similar_movies = recommend_similar_movies_name(movie_name, movies, movie_encoder, embeddings, top_n=top_n*2)\n",
    "    if similar_movies.empty:\n",
    "        return pd.DataFrame()\n",
    "    \n",
    "    similar_movie_ids = similar_movies[\"Movie ID\"].astype(int).values\n",
    "    \n",
    "    filtered_movies = movies[movies['movieId'].isin(similar_movie_ids)].copy()\n",
    "    for genre in genres:\n",
    "        if genre in all_genres:\n",
    "            filtered_movies = filtered_movies[filtered_movies[genre] == 1]\n",
    "        else:\n",
    "            print(f\"Genre '{genre}' Invalid.\")\n",
    "            return pd.DataFrame() \n",
    "    \n",
    "    if filtered_movies.empty:\n",
    "        print(\"No Movies Found w/ Specified Genre(s)\")\n",
    "        return pd.DataFrame()\n",
    "    \n",
    "    popularity = ratings.groupby('movieId').size().reset_index(name='rating_count')\n",
    "    filtered_movies = filtered_movies.merge(popularity, on='movieId', how='left').fillna({'rating_count': 0})\n",
    "    \n",
    "    filtered_movies = filtered_movies.merge(similar_movies[['Movie ID', 'Cosine Similarity']],\n",
    "                                            left_on='movieId', right_on='Movie ID', how='left')\n",
    "    \n",
    "    filtered_movies = filtered_movies.sort_values(by=['Cosine Similarity', 'rating_count'], ascending=[False, False])\n",
    "    \n",
    "    recommendations = filtered_movies[['movieId', 'title', 'Cosine Similarity', 'rating_count']].head(top_n)\n",
    "    \n",
    "    recommendations.rename(columns={\n",
    "        'movieId': 'Movie ID',\n",
    "        'title': 'Title',\n",
    "        'rating_count': 'Total Rating'\n",
    "    }, inplace=True)\n",
    "    recommendations[\"Year\"] = recommendations[\"Title\"].str.extract(r\"\\((\\d{4})\\)\")\n",
    "    recommendations[\"Title\"] = recommendations[\"Title\"].str.replace(r\" \\(\\d{4}\\)\", \"\", regex=True)\n",
    "    recommendations = recommendations[[\"Movie ID\", \"Title\", \"Year\", \"Cosine Similarity\", \"Total Rating\"]]\n",
    "    recommendations = recommendations.reset_index(drop=True)\n",
    "    recommendations.index += 1\n",
    "    return recommendations"
   ]
  },
  {
   "cell_type": "code",
   "execution_count": null,
   "metadata": {},
   "outputs": [],
   "source": [
    "movie_name = \"Godfather\"\n",
    "selected_genres = ['Action']\n",
    "combined_recommendations = recommend_combined_mix(\n",
    "    movie_name=movie_name,\n",
    "    genres=selected_genres,\n",
    "    movies=movies,\n",
    "    movie_encoder=movie_encoder,\n",
    "    embeddings=embeddings,\n",
    "    ratings=ratings,\n",
    "    top_n=10\n",
    ")\n",
    "display(combined_recommendations)"
   ]
  }
 ],
 "metadata": {
  "kernelspec": {
   "display_name": "ai",
   "language": "python",
   "name": "python3"
  },
  "language_info": {
   "codemirror_mode": {
    "name": "ipython",
    "version": 3
   },
   "file_extension": ".py",
   "mimetype": "text/x-python",
   "name": "python",
   "nbconvert_exporter": "python",
   "pygments_lexer": "ipython3",
   "version": "3.10.15"
  }
 },
 "nbformat": 4,
 "nbformat_minor": 2
}
